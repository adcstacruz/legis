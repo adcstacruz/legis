{
 "cells": [
  {
   "cell_type": "code",
   "execution_count": 1,
   "metadata": {},
   "outputs": [],
   "source": [
    "import pandas as pd\n",
    "import os\n",
    "import re"
   ]
  },
  {
   "cell_type": "code",
   "execution_count": 2,
   "metadata": {},
   "outputs": [],
   "source": [
    "bill_dir = \"/home/totoy/Downloads/Legis/legis/dump/17W\"\n",
    "congress_names_path = \"\"\n",
    "file_names = os.listdir(bill_dir)\n",
    "file_paths = [os.path.join(bill_dir, file_name) for file_name in file_names]\n",
    "\n",
    "\n",
    "\n"
   ]
  },
  {
   "cell_type": "code",
   "execution_count": 3,
   "metadata": {},
   "outputs": [],
   "source": [
    "# add in settings.py\n",
    "OUTPUT_PATH = '/home/totoy/Desktop/legis_output'\n",
    "CONGRESS_NAMES_STORE_PATH = os.path.join(OUTPUT_PATH, 'congress')\n",
    "\n",
    "BASE_PATH = ''\n",
    "\n",
    "AUTHOR_KEYS = ['Principal Author/s']\n",
    "SHORT_TITLE_KEYS = ['Short Title']\n",
    "\n",
    "ERR_PATH_KEY = None\n",
    "SUC_PATH_KEY = None\n",
    "\n",
    "ERR_BID_PATH_KEY = 'Bid'\n",
    "ERR_AUTH_PATH_KEY = 'Authors'\n",
    "ERR_DESC_PATH_KEY = 'Description'\n",
    "ERR_TITLE_PATH_KEY = 'Title'\n",
    "\n",
    "\n",
    "BID_PATTERN = '^H[a-zA-Z]*\\d+\\d$'\n",
    "\n",
    "\n",
    "# paths\n",
    "\n",
    "\n",
    "# patterns\n",
    "author_keys = AUTHOR_KEYS\n",
    "bid_pattern = BID_PATTERN\n",
    "short_title_keys = SHORT_TITLE_KEYS"
   ]
  },
  {
   "cell_type": "code",
   "execution_count": 4,
   "metadata": {},
   "outputs": [],
   "source": [
    "def congress_crawler():\n",
    "    pass"
   ]
  },
  {
   "cell_type": "code",
   "execution_count": 5,
   "metadata": {},
   "outputs": [
    {
     "ename": "SyntaxError",
     "evalue": "invalid syntax (<ipython-input-5-289791eb9314>, line 5)",
     "output_type": "error",
     "traceback": [
      "\u001b[0;36m  File \u001b[0;32m\"<ipython-input-5-289791eb9314>\"\u001b[0;36m, line \u001b[0;32m5\u001b[0m\n\u001b[0;31m    def get_congress\u001b[0m\n\u001b[0m                    ^\u001b[0m\n\u001b[0;31mSyntaxError\u001b[0m\u001b[0;31m:\u001b[0m invalid syntax\n"
     ]
    }
   ],
   "source": [
    "class EntityMatcher:\n",
    "    def __init__(self, congress, congress_names_path):\n",
    "        self.congress = congress\n",
    "        \n",
    "    def get_congress"
   ]
  },
  {
   "cell_type": "code",
   "execution_count": 6,
   "metadata": {},
   "outputs": [
    {
     "ename": "SyntaxError",
     "evalue": "invalid syntax (<ipython-input-6-663d6934e392>, line 8)",
     "output_type": "error",
     "traceback": [
      "\u001b[0;36m  File \u001b[0;32m\"<ipython-input-6-663d6934e392>\"\u001b[0;36m, line \u001b[0;32m8\u001b[0m\n\u001b[0;31m    os.\u001b[0m\n\u001b[0m       ^\u001b[0m\n\u001b[0;31mSyntaxError\u001b[0m\u001b[0;31m:\u001b[0m invalid syntax\n"
     ]
    }
   ],
   "source": [
    "def push_to_bin(file_path, base_path, *path_keys):\n",
    "    bin_path = os.path.join(*path_keys)\n",
    "\n",
    "    if not os.path.exists('my_folder'):\n",
    "        os.makedirs(bin_path)\n",
    "        print('Created folder: bin_path')\n",
    "\n",
    "    os.\n",
    "        #     os.makedirs('my_folder')"
   ]
  },
  {
   "cell_type": "code",
   "execution_count": 7,
   "metadata": {},
   "outputs": [],
   "source": [
    "class Author:\n",
    "    def __init__(self, raw_name, congress):\n",
    "        self.raw_name = raw_name\n",
    "        self.congress = congress\n",
    "        self.flag = 'U' # unmatched\n",
    "        \n",
    "    def set_name(self, matched_name, confidence):\n",
    "        self.name = matched_name\n",
    "        \n",
    "    def set_potential_names(self, matched_names, confidence):\n",
    "        pass\n",
    "#     def normalize_name():\n",
    "        "
   ]
  },
  {
   "cell_type": "code",
   "execution_count": 8,
   "metadata": {},
   "outputs": [
    {
     "name": "stdout",
     "output_type": "stream",
     "text": [
      "a\n"
     ]
    }
   ],
   "source": [
    "auth_test = Author('a', '15')\n",
    "print(auth_test.raw_name)"
   ]
  },
  {
   "cell_type": "code",
   "execution_count": 9,
   "metadata": {},
   "outputs": [],
   "source": [
    "class Bill:\n",
    "    def __init__(self, congress, file_path):\n",
    "        self.file_path = file_path\n",
    "        self.congress = congress\n",
    "        self.authors = None\n",
    "        \n",
    "        with open(file_path, 'r') as bill:\n",
    "            self.bill_texts = bill.read().split('\\n')\n",
    "\n",
    "        self._extract_bill_id()\n",
    "        self._extract_description()\n",
    "        self._extract_short_title()\n",
    "        self._extract_authors()\n",
    "        self._process_authors()\n",
    "    \n",
    "    def _extract_bill_id(self):\n",
    "        for bill_text in self.bill_texts:\n",
    "            bid = re.findall(bid_pattern, bill_text)[0]\n",
    "            if bid:\n",
    "                self.bid = bid\n",
    "                return\n",
    "            \n",
    "        # TODO: trigger push to bin\n",
    "        return None \n",
    "\n",
    "    \n",
    "    def _extract_description(self):\n",
    "        # TODO: this might be faulty, check this in the future\n",
    "        self.description = self.bill_texts[1]\n",
    "        return \n",
    "\n",
    "    \n",
    "    def _extract_short_title(self):\n",
    "        for bill_text in self.bill_texts:\n",
    "            try: \n",
    "                key, value = bill_text.split(':')\n",
    "            except:\n",
    "                continue\n",
    "            \n",
    "            if key in short_title_keys:\n",
    "                self.short_title = value.strip()\n",
    "                return\n",
    "            \n",
    "        # TODO: trigger push to bin\n",
    "        return None \n",
    "    \n",
    "    \n",
    "    def _extract_authors(self):\n",
    "        for bill_text in self.bill_texts:\n",
    "            try:\n",
    "                key, authors = bill_text.split(':')\n",
    "            except:\n",
    "                continue\n",
    "            \n",
    "            if key in author_keys:\n",
    "                authors = authors.split(';')\n",
    "                self.raw_authors = list(map(str.strip, authors))\n",
    "                return\n",
    "            \n",
    "        # TODO: trigger push to bin\n",
    "        return None \n",
    "\n",
    "\n",
    "    def _process_authors(self):\n",
    "        authors = []\n",
    "        for author in self.raw_authors:\n",
    "            authors.append(Author(author, self.congress))\n",
    "        \n",
    "        self.authors = authors\n",
    "            "
   ]
  },
  {
   "cell_type": "code",
   "execution_count": 10,
   "metadata": {},
   "outputs": [],
   "source": [
    "file_path = file_paths[0]"
   ]
  },
  {
   "cell_type": "code",
   "execution_count": 11,
   "metadata": {},
   "outputs": [],
   "source": [
    "file_path = file_paths[0]\n",
    "with open(file_path, 'r') as bill:\n",
    "    bill = bill.read()"
   ]
  },
  {
   "cell_type": "code",
   "execution_count": 12,
   "metadata": {},
   "outputs": [
    {
     "name": "stdout",
     "output_type": "stream",
     "text": [
      "['FARIÑAS, RODOLFO C.', 'ALVAREZ, PANTALEON D.', 'ANDAYA, ROLANDO JR. G.', 'DUAVIT, JOHN MICHAEL R.', 'COJUANGCO, CARLOS O.', 'KHO, ELISA \"OLGA\" T.', 'ABU, RANEO \"RANIE\" E.', 'SALIMBANGON, BENHUR L.', 'SUAREZ, DANILO E.', 'BATOCABE, RODEL M.', 'NOGRALES, KARLO ALEXEI B.', '']\n",
      "[<__main__.Author object at 0x7ff672116160>, <__main__.Author object at 0x7ff6721160f0>, <__main__.Author object at 0x7ff6721160b8>, <__main__.Author object at 0x7ff672116198>, <__main__.Author object at 0x7ff672116080>, <__main__.Author object at 0x7ff672116128>, <__main__.Author object at 0x7ff6721161d0>, <__main__.Author object at 0x7ff672116208>, <__main__.Author object at 0x7ff672116240>, <__main__.Author object at 0x7ff672116278>, <__main__.Author object at 0x7ff6721162b0>, <__main__.Author object at 0x7ff6721162e8>]\n"
     ]
    }
   ],
   "source": [
    "test = Bill('17', file_path)\n",
    "# print(test.file_path)\n",
    "# print(test.bill_texts)\n",
    "print(test.raw_authors)\n",
    "print(test.authors)"
   ]
  },
  {
   "cell_type": "code",
   "execution_count": 13,
   "metadata": {},
   "outputs": [],
   "source": [
    "# CONGRESS GET NAMES"
   ]
  },
  {
   "cell_type": "code",
   "execution_count": 14,
   "metadata": {},
   "outputs": [],
   "source": [
    "import os \n",
    "\n",
    "OUTPUT_PATH = '/home/totoy/Desktop/legis_output'\n",
    "REPS_STORE_PATH = os.path.join(OUTPUT_PATH, 'congress_reps')\n",
    "REPS_FILENAME = 'reps_{cid}.pickle'\n",
    "URLS = {'17': \"https://en.wikipedia.org/wiki/17th_Congress_of_the_Philippines\"}\n",
    "CIDS = ['17']\n",
    "TABLE_KEYWORDS = [\"province/city\", \"district\", \n",
    "                  \"representative\", \"party\", \n",
    "                  \"term\", \"bloc\"]\n",
    "\n",
    "\n",
    "cid = CIDS[0]\n",
    "urls = URLS\n",
    "reps_store_path = REPS_STORE_PATH\n",
    "reps_filename = REPS_FILENAME\n",
    "table_columns = TABLE_KEYWORDS"
   ]
  },
  {
   "cell_type": "code",
   "execution_count": 15,
   "metadata": {},
   "outputs": [],
   "source": [
    "from bs4 import BeautifulSoup\n",
    "import requests\n",
    "import pandas as pd\n",
    "import re\n",
    "\n",
    "pd.set_option('display.max_rows', 500)"
   ]
  },
  {
   "cell_type": "code",
   "execution_count": 16,
   "metadata": {},
   "outputs": [],
   "source": [
    "def get_reps(url):\n",
    "    html_content = requests.get(url).content\n",
    "    soup = BeautifulSoup(html_content, 'lxml')\n",
    "    candidate_tables = soup.find_all(\"table\", {\"class\": \"wikitable sortable\"})\n",
    "\n",
    "    table = None\n",
    "    best_score = 0\n",
    "    for c_table in candidate_tables:\n",
    "        c_table_ths = c_table.find_all('th')\n",
    "\n",
    "        temp_score = 0\n",
    "        for th in c_table_ths:\n",
    "            if th.text.replace('\\n', ' ').lower().strip() in table_columns:\n",
    "                temp_score +=1\n",
    "\n",
    "        if best_score < temp_score:\n",
    "            print(\"NEW BEST SCORE\")\n",
    "            table = c_table\n",
    "            best_score = temp_score\n",
    "\n",
    "    table_rows = table.find_all('tr')\n",
    "\n",
    "    results = []\n",
    "    temp_province = None\n",
    "    for tr in table_rows[1:]:\n",
    "        row_elements = tr.find_all('td')\n",
    "\n",
    "        row = [re.sub(r\"\\[.*?\\]\", \"\", row_elem.text.strip()) for row_elem in row_elements if row_elem.text.strip()]\n",
    "\n",
    "        if len(row) == len(table_columns)-1:\n",
    "            row.insert(0, temp_province)\n",
    "        else:\n",
    "            temp_province = row[0]\n",
    "\n",
    "        if row:\n",
    "            results.append(row)\n",
    "            \n",
    "    return pd.DataFrame(results, columns=table_columns)"
   ]
  },
  {
   "cell_type": "code",
   "execution_count": 17,
   "metadata": {},
   "outputs": [
    {
     "name": "stdout",
     "output_type": "stream",
     "text": [
      "NEW BEST SCORE\n",
      "NEW BEST SCORE\n",
      "NEW BEST SCORE\n"
     ]
    }
   ],
   "source": [
    "reps_df = get_reps(urls['17'])"
   ]
  },
  {
   "cell_type": "code",
   "execution_count": 18,
   "metadata": {},
   "outputs": [],
   "source": [
    "def folderinator(path):\n",
    "    if not os.path.exists(path):\n",
    "        os.makedirs(path)\n",
    "\n",
    "def save_reps(reps_df, cid):\n",
    "    folderinator(reps_store_path)\n",
    "    reps_df.to_pickle(os.path.join(reps_store_path, reps_filename.format(cid=cid)))\n",
    "#     (os.path.join, os.sep,reps_filename.format(cid=cid))"
   ]
  },
  {
   "cell_type": "code",
   "execution_count": 39,
   "metadata": {},
   "outputs": [],
   "source": [
    "save_reps(reps_df, cid)"
   ]
  },
  {
   "cell_type": "code",
   "execution_count": 23,
   "metadata": {},
   "outputs": [
    {
     "data": {
      "text/plain": [
       "'/home/totoy/Desktop/legis_output/congress'"
      ]
     },
     "execution_count": 23,
     "metadata": {},
     "output_type": "execute_result"
    }
   ],
   "source": [
    "reps_store_path"
   ]
  },
  {
   "cell_type": "code",
   "execution_count": 26,
   "metadata": {},
   "outputs": [
    {
     "data": {
      "text/plain": [
       "'/home/totoy/Desktop/legis_output/congress/reps_17.pickle'"
      ]
     },
     "execution_count": 26,
     "metadata": {},
     "output_type": "execute_result"
    }
   ],
   "source": [
    "os.path.join(reps_store_path, reps_filename.format(cid=cid))"
   ]
  },
  {
   "cell_type": "code",
   "execution_count": 25,
   "metadata": {},
   "outputs": [
    {
     "data": {
      "text/plain": [
       "'/home/totoy/Desktop/legis_output/congress'"
      ]
     },
     "execution_count": 25,
     "metadata": {},
     "output_type": "execute_result"
    }
   ],
   "source": [
    "reps_store_path"
   ]
  },
  {
   "cell_type": "code",
   "execution_count": 40,
   "metadata": {},
   "outputs": [],
   "source": [
    "# Entity Matching"
   ]
  },
  {
   "cell_type": "code",
   "execution_count": 19,
   "metadata": {},
   "outputs": [],
   "source": [
    "from fuzzywuzzy import process"
   ]
  },
  {
   "cell_type": "code",
   "execution_count": 26,
   "metadata": {},
   "outputs": [
    {
     "name": "stderr",
     "output_type": "stream",
     "text": [
      "WARNING:root:Applied processor reduces input query to empty string, all comparisons will have score 0. [Query: '']\n"
     ]
    },
    {
     "name": "stdout",
     "output_type": "stream",
     "text": [
      "FARIÑAS, RODOLFO C. ('Rodolfo Fariñas', 95)\n",
      "ALVAREZ, PANTALEON D. ('Pantaleon Alvarez', 95)\n",
      "ANDAYA, ROLANDO JR. G. ('Rolando Andaya Jr.', 95)\n",
      "DUAVIT, JOHN MICHAEL R. ('Michael John Duavit', 95)\n",
      "COJUANGCO, CARLOS O. ('Charlie Cojuangco', 76)\n",
      "KHO, ELISA \"OLGA\" T. ('Elisa Olga Kho', 95)\n",
      "ABU, RANEO \"RANIE\" E. ('Raneo Abu', 86)\n",
      "SALIMBANGON, BENHUR L. ('Benhur Salimbangon', 95)\n",
      "SUAREZ, DANILO E. ('Danilo Suarez', 95)\n",
      "BATOCABE, RODEL M. ('Rodolfo Albano III', 50)\n",
      "NOGRALES, KARLO ALEXEI B. ('Karlo Nograles6', 86)\n",
      " ('Joseph Sto. Niño Bernos', 0)\n"
     ]
    }
   ],
   "source": [
    "for author in test.authors:\n",
    "    print(author.raw_name, process.extractOne(author.raw_name, reps_df.representative.to_list()))"
   ]
  },
  {
   "cell_type": "code",
   "execution_count": 28,
   "metadata": {},
   "outputs": [
    {
     "name": "stdout",
     "output_type": "stream",
     "text": [
      "FARIÑAS, RODOLFO C.\n",
      "ALVAREZ, PANTALEON D.\n",
      "ANDAYA, ROLANDO JR. G.\n",
      "DUAVIT, JOHN MICHAEL R.\n",
      "COJUANGCO, CARLOS O.\n",
      "KHO, ELISA \"OLGA\" T.\n",
      "ABU, RANEO \"RANIE\" E.\n",
      "SALIMBANGON, BENHUR L.\n",
      "SUAREZ, DANILO E.\n",
      "BATOCABE, RODEL M.\n",
      "NOGRALES, KARLO ALEXEI B.\n",
      "\n"
     ]
    }
   ],
   "source": [
    "for author in test.authors:\n",
    "    print(author.raw_name)"
   ]
  },
  {
   "cell_type": "code",
   "execution_count": 75,
   "metadata": {},
   "outputs": [],
   "source": [
    "class Person:\n",
    "    def __init__(self, name, pid):\n",
    "        self.name = name\n",
    "        self.pid = pid\n",
    "\n",
    "class Bus:    \n",
    "    def __init__(self):\n",
    "        self.passengers = {}\n",
    "        \n",
    "    def add_passenger(self, person):\n",
    "        # given everything is okay\n",
    "        self.passengers[person.pid] = person\n",
    "        \n",
    "        \n",
    "p1 = Person('Anton', 'x123')\n",
    "p2 = Person('Totoy', 'abcd')\n",
    "bus = Bus()\n",
    "bus.add_passenger(p1)\n",
    "bus.add_passenger(p2)"
   ]
  },
  {
   "cell_type": "code",
   "execution_count": 77,
   "metadata": {},
   "outputs": [
    {
     "data": {
      "text/plain": [
       "{'x123': <__main__.Person at 0x7f888f513550>,\n",
       " 'abcd': <__main__.Person at 0x7f888f513240>}"
      ]
     },
     "execution_count": 77,
     "metadata": {},
     "output_type": "execute_result"
    }
   ],
   "source": [
    "bus.passengers"
   ]
  },
  {
   "cell_type": "code",
   "execution_count": 72,
   "metadata": {},
   "outputs": [],
   "source": []
  },
  {
   "cell_type": "code",
   "execution_count": 73,
   "metadata": {},
   "outputs": [],
   "source": []
  },
  {
   "cell_type": "code",
   "execution_count": null,
   "metadata": {},
   "outputs": [],
   "source": [
    "class EntityMatcher: \n",
    "    def __init__(self):\n",
    "        self.reps_set = {}\n",
    "        \n",
    "    def get_reps_set(self, cid):\n",
    "        self.reps_set['cid'] = "
   ]
  }
 ],
 "metadata": {
  "kernelspec": {
   "display_name": "hb",
   "language": "python",
   "name": "hb"
  },
  "language_info": {
   "codemirror_mode": {
    "name": "ipython",
    "version": 3
   },
   "file_extension": ".py",
   "mimetype": "text/x-python",
   "name": "python",
   "nbconvert_exporter": "python",
   "pygments_lexer": "ipython3",
   "version": "3.6.10"
  }
 },
 "nbformat": 4,
 "nbformat_minor": 2
}
