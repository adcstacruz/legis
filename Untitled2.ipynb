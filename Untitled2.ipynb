{
 "cells": [
  {
   "cell_type": "code",
   "execution_count": 1,
   "metadata": {},
   "outputs": [],
   "source": [
    "import pandas as pd"
   ]
  },
  {
   "cell_type": "code",
   "execution_count": 2,
   "metadata": {},
   "outputs": [],
   "source": [
    "filename = '/home/totoy/Desktop/legis_output/bills_df/bills_df_17.pickle'"
   ]
  },
  {
   "cell_type": "code",
   "execution_count": 3,
   "metadata": {},
   "outputs": [],
   "source": [
    "df = pd.read_pickle(filename)"
   ]
  },
  {
   "cell_type": "code",
   "execution_count": 4,
   "metadata": {},
   "outputs": [],
   "source": [
    "pd.set_option('display.max_columns', 500)"
   ]
  },
  {
   "cell_type": "code",
   "execution_count": null,
   "metadata": {},
   "outputs": [],
   "source": []
  },
  {
   "cell_type": "code",
   "execution_count": 5,
   "metadata": {
    "scrolled": false
   },
   "outputs": [
    {
     "data": {
      "text/html": [
       "<div>\n",
       "<style scoped>\n",
       "    .dataframe tbody tr th:only-of-type {\n",
       "        vertical-align: middle;\n",
       "    }\n",
       "\n",
       "    .dataframe tbody tr th {\n",
       "        vertical-align: top;\n",
       "    }\n",
       "\n",
       "    .dataframe thead th {\n",
       "        text-align: right;\n",
       "    }\n",
       "</style>\n",
       "<table border=\"1\" class=\"dataframe\">\n",
       "  <thead>\n",
       "    <tr style=\"text-align: right;\">\n",
       "      <th></th>\n",
       "      <th>index</th>\n",
       "      <th>bill_number</th>\n",
       "      <th>ra_number</th>\n",
       "      <th>adopted_number</th>\n",
       "      <th>concurrent_resolution</th>\n",
       "      <th>full_title</th>\n",
       "      <th>abstract</th>\n",
       "      <th>short_title</th>\n",
       "      <th>date_filed</th>\n",
       "      <th>significance</th>\n",
       "      <th>nature</th>\n",
       "      <th>committee</th>\n",
       "      <th>date_urgent</th>\n",
       "      <th>principal</th>\n",
       "      <th>co_authors_journal</th>\n",
       "      <th>co_authors_committee</th>\n",
       "      <th>co_authors_final</th>\n",
       "      <th>authors_withdraw</th>\n",
       "      <th>committee_actions</th>\n",
       "      <th>committee_rules</th>\n",
       "      <th>second_reading</th>\n",
       "      <th>third_reading</th>\n",
       "      <th>senate_actions</th>\n",
       "      <th>conference_info</th>\n",
       "      <th>president_actions</th>\n",
       "    </tr>\n",
       "  </thead>\n",
       "  <tbody>\n",
       "    <tr>\n",
       "      <th>0</th>\n",
       "      <td>0</td>\n",
       "      <td>HB00003</td>\n",
       "      <td></td>\n",
       "      <td></td>\n",
       "      <td></td>\n",
       "      <td>AN ACT GRANTING PRESIDENT RODRIGO ROA DUTERTE,...</td>\n",
       "      <td>Seeks to address the immense traffic congestio...</td>\n",
       "      <td>Traffic Crisis Act Of 2016</td>\n",
       "      <td>2016-06-30</td>\n",
       "      <td>NATIONAL</td>\n",
       "      <td>Reform</td>\n",
       "      <td>TRANSPORTATION</td>\n",
       "      <td></td>\n",
       "      <td>[FARIÑAS, RODOLFO C., ALVAREZ, PANTALEON D., A...</td>\n",
       "      <td>[Nieto, Villar, Gonzales (A.P.), Del Mar, Samb...</td>\n",
       "      <td>[]</td>\n",
       "      <td>[]</td>\n",
       "      <td>[]</td>\n",
       "      <td>[COMMITEE HEARINGS/ACTIONS:,       1. Under de...</td>\n",
       "      <td>[REFERRAL TO THE COMMITTEE ON TRANSPORTATION O...</td>\n",
       "      <td>[]</td>\n",
       "      <td>[]</td>\n",
       "      <td>[]</td>\n",
       "      <td>[]</td>\n",
       "      <td>[]</td>\n",
       "    </tr>\n",
       "    <tr>\n",
       "      <th>1</th>\n",
       "      <td>0</td>\n",
       "      <td>HB00008</td>\n",
       "      <td></td>\n",
       "      <td></td>\n",
       "      <td></td>\n",
       "      <td>AN ACT INSTITUTIONALIZING A CRIMINAL INVESTIGA...</td>\n",
       "      <td>Institutionalizes a criminal investigation sys...</td>\n",
       "      <td></td>\n",
       "      <td>2016-06-30</td>\n",
       "      <td>NATIONAL</td>\n",
       "      <td>Reform</td>\n",
       "      <td>JUSTICE</td>\n",
       "      <td></td>\n",
       "      <td>[FARIÑAS, RODOLFO C., ALVAREZ, PANTALEON D., A...</td>\n",
       "      <td>[Roque (H.), Nieto, Bataoil, Tan (A.), Villanu...</td>\n",
       "      <td>[]</td>\n",
       "      <td>[]</td>\n",
       "      <td>[]</td>\n",
       "      <td>[MOTHER BILL: HB06574]</td>\n",
       "      <td>[REFERRAL TO THE COMMITTEE ON JUSTICE ON 2016-...</td>\n",
       "      <td>[]</td>\n",
       "      <td>[]</td>\n",
       "      <td>[]</td>\n",
       "      <td>[]</td>\n",
       "      <td>[]</td>\n",
       "    </tr>\n",
       "    <tr>\n",
       "      <th>2</th>\n",
       "      <td>0</td>\n",
       "      <td>HB00005</td>\n",
       "      <td></td>\n",
       "      <td></td>\n",
       "      <td></td>\n",
       "      <td>AN ACT PROVIDING FOR STIFFER PENALTIES FOR PER...</td>\n",
       "      <td>Provides stiffer penalty to persons driving un...</td>\n",
       "      <td></td>\n",
       "      <td>2016-06-30</td>\n",
       "      <td>NATIONAL</td>\n",
       "      <td>Reform</td>\n",
       "      <td>TRANSPORTATION</td>\n",
       "      <td></td>\n",
       "      <td>[FARIÑAS, RODOLFO C., ALVAREZ, PANTALEON D., A...</td>\n",
       "      <td>[Nieto, Gonzales (A.P.), Alvarez (F.), Bataoil...</td>\n",
       "      <td>[]</td>\n",
       "      <td>[]</td>\n",
       "      <td>[]</td>\n",
       "      <td>[COMMITEE HEARINGS/ACTIONS:,       1. on 2016-...</td>\n",
       "      <td>[REFERRAL TO THE COMMITTEE ON TRANSPORTATION O...</td>\n",
       "      <td>[]</td>\n",
       "      <td>[]</td>\n",
       "      <td>[]</td>\n",
       "      <td>[]</td>\n",
       "      <td>[]</td>\n",
       "    </tr>\n",
       "    <tr>\n",
       "      <th>3</th>\n",
       "      <td>0</td>\n",
       "      <td>HB00007</td>\n",
       "      <td></td>\n",
       "      <td></td>\n",
       "      <td></td>\n",
       "      <td>AN ACT NAMING THE LAOAG BY-PASS ROAD AS THE RO...</td>\n",
       "      <td></td>\n",
       "      <td></td>\n",
       "      <td>2016-06-30</td>\n",
       "      <td>LOCAL</td>\n",
       "      <td>Others</td>\n",
       "      <td>PUBLIC WORKS AND HIGHWAYS</td>\n",
       "      <td></td>\n",
       "      <td>[QUIMBO, ROMERO \"MIRO\" S.]</td>\n",
       "      <td>[Cosalan]</td>\n",
       "      <td>[]</td>\n",
       "      <td>[]</td>\n",
       "      <td>[]</td>\n",
       "      <td>[COMMITEE HEARINGS/ACTIONS:,       1. Measure ...</td>\n",
       "      <td>[REFERRAL TO THE COMMITTEE ON PUBLIC WORKS AND...</td>\n",
       "      <td>[]</td>\n",
       "      <td>[]</td>\n",
       "      <td>[]</td>\n",
       "      <td>[]</td>\n",
       "      <td>[]</td>\n",
       "    </tr>\n",
       "    <tr>\n",
       "      <th>4</th>\n",
       "      <td>0</td>\n",
       "      <td>HB00002</td>\n",
       "      <td></td>\n",
       "      <td></td>\n",
       "      <td></td>\n",
       "      <td>AN ACT AMENDING REPUBLIC ACT NO. 9344, AS AMEN...</td>\n",
       "      <td>Reverts back the minimum age of criminal liabi...</td>\n",
       "      <td>Minimum Age Of Criminal Responsibility Act</td>\n",
       "      <td>2016-06-30</td>\n",
       "      <td>NATIONAL</td>\n",
       "      <td>Reform</td>\n",
       "      <td>JUSTICE</td>\n",
       "      <td></td>\n",
       "      <td>[CASTRO, FREDENIL \"FRED\" H., ALVAREZ, PANTALEO...</td>\n",
       "      <td>[Bataoil, Garcia (G.), Mercado, Cosalan, Anton...</td>\n",
       "      <td>[]</td>\n",
       "      <td>[]</td>\n",
       "      <td>[Gullas]</td>\n",
       "      <td>[MOTHER BILL: HB08858]</td>\n",
       "      <td>[REFERRAL TO THE COMMITTEE ON JUSTICE ON 2016-...</td>\n",
       "      <td>[]</td>\n",
       "      <td>[]</td>\n",
       "      <td>[]</td>\n",
       "      <td>[]</td>\n",
       "      <td>[]</td>\n",
       "    </tr>\n",
       "    <tr>\n",
       "      <th>5</th>\n",
       "      <td>0</td>\n",
       "      <td>HB00004</td>\n",
       "      <td></td>\n",
       "      <td></td>\n",
       "      <td></td>\n",
       "      <td>AN ACT CREATING CIRCUIT CRIMINAL COURTS GRANTI...</td>\n",
       "      <td>Creates Circuit Criminal Courts in all judicia...</td>\n",
       "      <td>Circuit Criminal Courts Act Of 2016</td>\n",
       "      <td>2016-06-30</td>\n",
       "      <td>NATIONAL</td>\n",
       "      <td>Reform</td>\n",
       "      <td>JUSTICE</td>\n",
       "      <td></td>\n",
       "      <td>[FARIÑAS, RODOLFO C., ALVAREZ, PANTALEON D., A...</td>\n",
       "      <td>[Nieto, Bataoil, Villanueva, Sy-Alvarado, Espi...</td>\n",
       "      <td>[]</td>\n",
       "      <td>[]</td>\n",
       "      <td>[]</td>\n",
       "      <td>[]</td>\n",
       "      <td>[REFERRAL TO THE COMMITTEE ON JUSTICE ON 2016-...</td>\n",
       "      <td>[]</td>\n",
       "      <td>[]</td>\n",
       "      <td>[]</td>\n",
       "      <td>[]</td>\n",
       "      <td>[]</td>\n",
       "    </tr>\n",
       "    <tr>\n",
       "      <th>6</th>\n",
       "      <td>0</td>\n",
       "      <td>HB00001</td>\n",
       "      <td></td>\n",
       "      <td></td>\n",
       "      <td></td>\n",
       "      <td>AN ACT IMPOSING THE DEATH PENALTY ON CERTAIN H...</td>\n",
       "      <td>Imposes death penalty for heinous crimes with ...</td>\n",
       "      <td>Death Penalty Law</td>\n",
       "      <td>2016-06-30</td>\n",
       "      <td>NATIONAL</td>\n",
       "      <td>Reform</td>\n",
       "      <td>JUSTICE</td>\n",
       "      <td></td>\n",
       "      <td>[CASTRO, FREDENIL \"FRED\" H., ALVAREZ, PANTALEO...</td>\n",
       "      <td>[Bataoil, Garcia (G.), Mercado, Cosalan, Yap (...</td>\n",
       "      <td>[]</td>\n",
       "      <td>[]</td>\n",
       "      <td>[Casilao]</td>\n",
       "      <td>[MOTHER BILL: HB04727]</td>\n",
       "      <td>[REFERRAL TO THE COMMITTEE ON JUSTICE ON 2016-...</td>\n",
       "      <td>[]</td>\n",
       "      <td>[]</td>\n",
       "      <td>[]</td>\n",
       "      <td>[]</td>\n",
       "      <td>[]</td>\n",
       "    </tr>\n",
       "    <tr>\n",
       "      <th>7</th>\n",
       "      <td>0</td>\n",
       "      <td>HB00006</td>\n",
       "      <td></td>\n",
       "      <td></td>\n",
       "      <td></td>\n",
       "      <td>AN ACT ENHANCING PUBLIC SAFETY AT THE LOCAL LE...</td>\n",
       "      <td>Seeks to enhance public order and safety at th...</td>\n",
       "      <td>Public Safety Act</td>\n",
       "      <td>2016-06-30</td>\n",
       "      <td>NATIONAL</td>\n",
       "      <td>Reform</td>\n",
       "      <td>LOCAL GOVERNMENT</td>\n",
       "      <td></td>\n",
       "      <td>[FARIÑAS, RODOLFO C., ALVAREZ, PANTALEON D., A...</td>\n",
       "      <td>[Roque (H.), Nieto, Bataoil, Cosalan, Tan (A.)...</td>\n",
       "      <td>[]</td>\n",
       "      <td>[]</td>\n",
       "      <td>[]</td>\n",
       "      <td>[MOTHER BILL: HB07878]</td>\n",
       "      <td>[REFERRAL TO THE COMMITTEE ON LOCAL GOVERNMENT...</td>\n",
       "      <td>[]</td>\n",
       "      <td>[]</td>\n",
       "      <td>[]</td>\n",
       "      <td>[]</td>\n",
       "      <td>[]</td>\n",
       "    </tr>\n",
       "  </tbody>\n",
       "</table>\n",
       "</div>"
      ],
      "text/plain": [
       "   index bill_number ra_number adopted_number concurrent_resolution  \\\n",
       "0      0     HB00003                                                  \n",
       "1      0     HB00008                                                  \n",
       "2      0     HB00005                                                  \n",
       "3      0     HB00007                                                  \n",
       "4      0     HB00002                                                  \n",
       "5      0     HB00004                                                  \n",
       "6      0     HB00001                                                  \n",
       "7      0     HB00006                                                  \n",
       "\n",
       "                                          full_title  \\\n",
       "0  AN ACT GRANTING PRESIDENT RODRIGO ROA DUTERTE,...   \n",
       "1  AN ACT INSTITUTIONALIZING A CRIMINAL INVESTIGA...   \n",
       "2  AN ACT PROVIDING FOR STIFFER PENALTIES FOR PER...   \n",
       "3  AN ACT NAMING THE LAOAG BY-PASS ROAD AS THE RO...   \n",
       "4  AN ACT AMENDING REPUBLIC ACT NO. 9344, AS AMEN...   \n",
       "5  AN ACT CREATING CIRCUIT CRIMINAL COURTS GRANTI...   \n",
       "6  AN ACT IMPOSING THE DEATH PENALTY ON CERTAIN H...   \n",
       "7  AN ACT ENHANCING PUBLIC SAFETY AT THE LOCAL LE...   \n",
       "\n",
       "                                            abstract  \\\n",
       "0  Seeks to address the immense traffic congestio...   \n",
       "1  Institutionalizes a criminal investigation sys...   \n",
       "2  Provides stiffer penalty to persons driving un...   \n",
       "3                                                      \n",
       "4  Reverts back the minimum age of criminal liabi...   \n",
       "5  Creates Circuit Criminal Courts in all judicia...   \n",
       "6  Imposes death penalty for heinous crimes with ...   \n",
       "7  Seeks to enhance public order and safety at th...   \n",
       "\n",
       "                                  short_title date_filed significance  nature  \\\n",
       "0                  Traffic Crisis Act Of 2016 2016-06-30     NATIONAL  Reform   \n",
       "1                                             2016-06-30     NATIONAL  Reform   \n",
       "2                                             2016-06-30     NATIONAL  Reform   \n",
       "3                                             2016-06-30        LOCAL  Others   \n",
       "4  Minimum Age Of Criminal Responsibility Act 2016-06-30     NATIONAL  Reform   \n",
       "5         Circuit Criminal Courts Act Of 2016 2016-06-30     NATIONAL  Reform   \n",
       "6                           Death Penalty Law 2016-06-30     NATIONAL  Reform   \n",
       "7                           Public Safety Act 2016-06-30     NATIONAL  Reform   \n",
       "\n",
       "                   committee date_urgent  \\\n",
       "0             TRANSPORTATION               \n",
       "1                    JUSTICE               \n",
       "2             TRANSPORTATION               \n",
       "3  PUBLIC WORKS AND HIGHWAYS               \n",
       "4                    JUSTICE               \n",
       "5                    JUSTICE               \n",
       "6                    JUSTICE               \n",
       "7           LOCAL GOVERNMENT               \n",
       "\n",
       "                                           principal  \\\n",
       "0  [FARIÑAS, RODOLFO C., ALVAREZ, PANTALEON D., A...   \n",
       "1  [FARIÑAS, RODOLFO C., ALVAREZ, PANTALEON D., A...   \n",
       "2  [FARIÑAS, RODOLFO C., ALVAREZ, PANTALEON D., A...   \n",
       "3                         [QUIMBO, ROMERO \"MIRO\" S.]   \n",
       "4  [CASTRO, FREDENIL \"FRED\" H., ALVAREZ, PANTALEO...   \n",
       "5  [FARIÑAS, RODOLFO C., ALVAREZ, PANTALEON D., A...   \n",
       "6  [CASTRO, FREDENIL \"FRED\" H., ALVAREZ, PANTALEO...   \n",
       "7  [FARIÑAS, RODOLFO C., ALVAREZ, PANTALEON D., A...   \n",
       "\n",
       "                                  co_authors_journal co_authors_committee  \\\n",
       "0  [Nieto, Villar, Gonzales (A.P.), Del Mar, Samb...                   []   \n",
       "1  [Roque (H.), Nieto, Bataoil, Tan (A.), Villanu...                   []   \n",
       "2  [Nieto, Gonzales (A.P.), Alvarez (F.), Bataoil...                   []   \n",
       "3                                          [Cosalan]                   []   \n",
       "4  [Bataoil, Garcia (G.), Mercado, Cosalan, Anton...                   []   \n",
       "5  [Nieto, Bataoil, Villanueva, Sy-Alvarado, Espi...                   []   \n",
       "6  [Bataoil, Garcia (G.), Mercado, Cosalan, Yap (...                   []   \n",
       "7  [Roque (H.), Nieto, Bataoil, Cosalan, Tan (A.)...                   []   \n",
       "\n",
       "  co_authors_final authors_withdraw  \\\n",
       "0               []               []   \n",
       "1               []               []   \n",
       "2               []               []   \n",
       "3               []               []   \n",
       "4               []         [Gullas]   \n",
       "5               []               []   \n",
       "6               []        [Casilao]   \n",
       "7               []               []   \n",
       "\n",
       "                                   committee_actions  \\\n",
       "0  [COMMITEE HEARINGS/ACTIONS:,       1. Under de...   \n",
       "1                             [MOTHER BILL: HB06574]   \n",
       "2  [COMMITEE HEARINGS/ACTIONS:,       1. on 2016-...   \n",
       "3  [COMMITEE HEARINGS/ACTIONS:,       1. Measure ...   \n",
       "4                             [MOTHER BILL: HB08858]   \n",
       "5                                                 []   \n",
       "6                             [MOTHER BILL: HB04727]   \n",
       "7                             [MOTHER BILL: HB07878]   \n",
       "\n",
       "                                     committee_rules second_reading  \\\n",
       "0  [REFERRAL TO THE COMMITTEE ON TRANSPORTATION O...             []   \n",
       "1  [REFERRAL TO THE COMMITTEE ON JUSTICE ON 2016-...             []   \n",
       "2  [REFERRAL TO THE COMMITTEE ON TRANSPORTATION O...             []   \n",
       "3  [REFERRAL TO THE COMMITTEE ON PUBLIC WORKS AND...             []   \n",
       "4  [REFERRAL TO THE COMMITTEE ON JUSTICE ON 2016-...             []   \n",
       "5  [REFERRAL TO THE COMMITTEE ON JUSTICE ON 2016-...             []   \n",
       "6  [REFERRAL TO THE COMMITTEE ON JUSTICE ON 2016-...             []   \n",
       "7  [REFERRAL TO THE COMMITTEE ON LOCAL GOVERNMENT...             []   \n",
       "\n",
       "  third_reading senate_actions conference_info president_actions  \n",
       "0            []             []              []                []  \n",
       "1            []             []              []                []  \n",
       "2            []             []              []                []  \n",
       "3            []             []              []                []  \n",
       "4            []             []              []                []  \n",
       "5            []             []              []                []  \n",
       "6            []             []              []                []  \n",
       "7            []             []              []                []  "
      ]
     },
     "execution_count": 5,
     "metadata": {},
     "output_type": "execute_result"
    }
   ],
   "source": [
    "df"
   ]
  },
  {
   "cell_type": "code",
   "execution_count": 6,
   "metadata": {},
   "outputs": [
    {
     "name": "stdout",
     "output_type": "stream",
     "text": [
      "HB00003\n",
      "HB00008\n",
      "HB00005\n",
      "HB00007\n",
      "HB00002\n",
      "HB00004\n",
      "HB00001\n",
      "HB00006\n"
     ]
    }
   ],
   "source": [
    "for _, row in df.iterrows():\n",
    "    print(row['bill_number'])\n"
   ]
  },
  {
   "cell_type": "code",
   "execution_count": 7,
   "metadata": {},
   "outputs": [
    {
     "data": {
      "text/plain": [
       "2016"
      ]
     },
     "execution_count": 7,
     "metadata": {},
     "output_type": "execute_result"
    }
   ],
   "source": [
    "pd.to_datetime(row['date_filed']).year"
   ]
  },
  {
   "cell_type": "code",
   "execution_count": 8,
   "metadata": {},
   "outputs": [],
   "source": [
    "from bill import Bill"
   ]
  },
  {
   "cell_type": "code",
   "execution_count": 9,
   "metadata": {},
   "outputs": [],
   "source": [
    "a = Bill('17', row.to_dict())"
   ]
  },
  {
   "cell_type": "code",
   "execution_count": 30,
   "metadata": {},
   "outputs": [
    {
     "ename": "AttributeError",
     "evalue": "'Author' object has no attribute 'matched_name'",
     "output_type": "error",
     "traceback": [
      "\u001b[0;31m-----------------------------------------------------------\u001b[0m",
      "\u001b[0;31mAttributeError\u001b[0m            Traceback (most recent call last)",
      "\u001b[0;32m<ipython-input-30-710258eb65f0>\u001b[0m in \u001b[0;36m<module>\u001b[0;34m\u001b[0m\n\u001b[0;32m----> 1\u001b[0;31m \u001b[0ma\u001b[0m\u001b[0;34m.\u001b[0m\u001b[0mauthors_list\u001b[0m\u001b[0;34m[\u001b[0m\u001b[0;36m0\u001b[0m\u001b[0;34m]\u001b[0m\u001b[0;34m.\u001b[0m\u001b[0mmatched_name\u001b[0m\u001b[0;34m\u001b[0m\u001b[0;34m\u001b[0m\u001b[0m\n\u001b[0m",
      "\u001b[0;31mAttributeError\u001b[0m: 'Author' object has no attribute 'matched_name'"
     ]
    }
   ],
   "source": [
    "a.authors_list[0].matched_name"
   ]
  },
  {
   "cell_type": "code",
   "execution_count": 11,
   "metadata": {},
   "outputs": [
    {
     "name": "stdout",
     "output_type": "stream",
     "text": [
      "{'index': 0, 'bill_number': 'HB00006', 'ra_number': '', 'adopted_number': '', 'concurrent_resolution': '', 'full_title': 'AN ACT ENHANCING PUBLIC SAFETY AT THE LOCAL LEVEL BY ESTABLISHING AND MAINTAINING A DEPARTMENT OF PUBLIC SAFETY IN EVERY PROVINCE, CITY AND MUNICIPALITY', 'abstract': 'Seeks to enhance public order and safety at the local level by mandating the creation of a Department of Public Order and Safety in every province, city and municipality, to improve the capability of local government units (LGUs)to meet the demand for greater safety, better local traffic management and enhanced disaster preparedness and response.', 'short_title': 'Public Safety Act', 'date_filed': Timestamp('2016-06-30 00:00:00'), 'significance': 'NATIONAL', 'nature': 'Reform', 'committee': 'LOCAL GOVERNMENT', 'date_urgent': '', 'principal': ['FARIÑAS, RODOLFO C.', 'ALVAREZ, PANTALEON D.', 'ANDAYA, ROLANDO JR. G.', 'DUAVIT, JOHN MICHAEL R.', 'COJUANGCO, CARLOS O.', 'KHO, ELISA \"OLGA\" T.', 'ABU, RANEO \"RANIE\" E.', 'SALIMBANGON, BENHUR L.', 'SUAREZ, DANILO E.', 'BATOCABE, RODEL M.', 'NOGRALES, KARLO ALEXEI B.'], 'co_authors_journal': ['Roque (H.)', 'Nieto', 'Bataoil', 'Cosalan', 'Tan (A.)', 'Villanueva', 'Floirendo', 'Sy-Alvarado', 'Tambunting', 'Fortun', 'Espino', 'Mercado', 'Dalipe', 'Violago', 'Catamco', 'Revilla', 'Bordado', 'Alvarez (F.)', 'Sarmiento (E.M.)', 'Sangcopan'], 'co_authors_committee': [], 'co_authors_final': [], 'authors_withdraw': [], 'committee_actions': ['MOTHER BILL: HB07878'], 'committee_rules': ['REFERRAL TO THE COMMITTEE ON LOCAL GOVERNMENT ON 2016-10-18', 'SECONDARILY REFERRED TO THE COMMITTEE(S) ON PUBLIC ORDER AND SAFETY', 'PREVIOUS COMMITTEE REFERRALS :PRIMARILY REFERRED TO PUBLIC ORDER AND SAFETY on 2016-07-26;'], 'second_reading': [], 'third_reading': [], 'senate_actions': [], 'conference_info': [], 'president_actions': []}\n"
     ]
    }
   ],
   "source": [
    "print(a.bill_dict)"
   ]
  },
  {
   "cell_type": "code",
   "execution_count": 12,
   "metadata": {},
   "outputs": [
    {
     "name": "stdout",
     "output_type": "stream",
     "text": [
      "HB00006\n"
     ]
    }
   ],
   "source": [
    "print(a.bid)"
   ]
  },
  {
   "cell_type": "code",
   "execution_count": 13,
   "metadata": {},
   "outputs": [
    {
     "name": "stdout",
     "output_type": "stream",
     "text": [
      "AN ACT ENHANCING PUBLIC SAFETY AT THE LOCAL LEVEL BY ESTABLISHING AND MAINTAINING A DEPARTMENT OF PUBLIC SAFETY IN EVERY PROVINCE, CITY AND MUNICIPALITY\n"
     ]
    }
   ],
   "source": [
    "print(a.full_title)"
   ]
  },
  {
   "cell_type": "code",
   "execution_count": 14,
   "metadata": {},
   "outputs": [
    {
     "name": "stdout",
     "output_type": "stream",
     "text": [
      "Seeks to enhance public order and safety at the local level by mandating the creation of a Department of Public Order and Safety in every province, city and municipality, to improve the capability of local government units (LGUs)to meet the demand for greater safety, better local traffic management and enhanced disaster preparedness and response.\n"
     ]
    }
   ],
   "source": [
    "print(a.abstract)"
   ]
  },
  {
   "cell_type": "code",
   "execution_count": 15,
   "metadata": {},
   "outputs": [
    {
     "name": "stdout",
     "output_type": "stream",
     "text": [
      "Public Safety Act\n"
     ]
    }
   ],
   "source": [
    "print(a.short_title)"
   ]
  },
  {
   "cell_type": "code",
   "execution_count": 16,
   "metadata": {},
   "outputs": [
    {
     "name": "stdout",
     "output_type": "stream",
     "text": [
      "2016-06-30 00:00:00\n"
     ]
    }
   ],
   "source": [
    "print(a.date_filed)"
   ]
  },
  {
   "cell_type": "code",
   "execution_count": 17,
   "metadata": {},
   "outputs": [
    {
     "name": "stdout",
     "output_type": "stream",
     "text": [
      "[<authors.Author object at 0x7fce65eb52e8>, <authors.Author object at 0x7fce65eb5320>, <authors.Author object at 0x7fce65eb5358>, <authors.Author object at 0x7fce65eb5390>, <authors.Author object at 0x7fce65eb5048>, <authors.Author object at 0x7fce65eb50b8>, <authors.Author object at 0x7fce65eb50f0>, <authors.Author object at 0x7fce65eb5128>, <authors.Author object at 0x7fce65eb5160>, <authors.Author object at 0x7fce65eb5198>, <authors.Author object at 0x7fce65eb51d0>, <authors.Author object at 0x7fce65eb5208>, <authors.Author object at 0x7fce66111d30>, <authors.Author object at 0x7fce66111e10>, <authors.Author object at 0x7fce66111ba8>, <authors.Author object at 0x7fce65e94eb8>, <authors.Author object at 0x7fce65e94fd0>, <authors.Author object at 0x7fce65e55048>, <authors.Author object at 0x7fce65e55080>, <authors.Author object at 0x7fce65e550b8>, <authors.Author object at 0x7fce65e550f0>, <authors.Author object at 0x7fce65e55128>, <authors.Author object at 0x7fce65e55160>, <authors.Author object at 0x7fce65e55198>, <authors.Author object at 0x7fce65e551d0>, <authors.Author object at 0x7fce65e55208>, <authors.Author object at 0x7fce65e55240>, <authors.Author object at 0x7fce65e55278>, <authors.Author object at 0x7fce65e552b0>, <authors.Author object at 0x7fce65e552e8>, <authors.Author object at 0x7fce65e55320>]\n"
     ]
    }
   ],
   "source": [
    "print(a.authors_list)"
   ]
  },
  {
   "cell_type": "code",
   "execution_count": 18,
   "metadata": {},
   "outputs": [
    {
     "name": "stdout",
     "output_type": "stream",
     "text": [
      "['MOTHER BILL: HB07878']\n"
     ]
    }
   ],
   "source": [
    "print(a.committee_actions)"
   ]
  },
  {
   "cell_type": "code",
   "execution_count": 19,
   "metadata": {},
   "outputs": [
    {
     "name": "stdout",
     "output_type": "stream",
     "text": [
      "['REFERRAL TO THE COMMITTEE ON LOCAL GOVERNMENT ON 2016-10-18', 'SECONDARILY REFERRED TO THE COMMITTEE(S) ON PUBLIC ORDER AND SAFETY', 'PREVIOUS COMMITTEE REFERRALS :PRIMARILY REFERRED TO PUBLIC ORDER AND SAFETY on 2016-07-26;']\n"
     ]
    }
   ],
   "source": [
    "print(a.committee_rules)"
   ]
  },
  {
   "cell_type": "code",
   "execution_count": 20,
   "metadata": {},
   "outputs": [],
   "source": [
    "\n",
    "class MethodTypes:\n",
    "\n",
    "    names = []\n",
    "\n",
    "    def __init__(self):\n",
    "        # Creates an instance atribute through keyword self\n",
    "        self.lastname = \"A\"\n",
    "        self.isin_method()\n",
    "\n",
    "    @classmethod\n",
    "    def update_names(cls, new_name_list=None):\n",
    "        # Access a class atribute through keyword cls\n",
    "        cls.names = new_name_list\n",
    "\n",
    "    def isin_method(self):\n",
    "        print(self.lastname in self.names)\n",
    "        \n"
   ]
  },
  {
   "cell_type": "code",
   "execution_count": 21,
   "metadata": {},
   "outputs": [],
   "source": [
    "old_names = ['A','B']"
   ]
  },
  {
   "cell_type": "code",
   "execution_count": 22,
   "metadata": {},
   "outputs": [],
   "source": [
    "new_names = ['C','D']"
   ]
  },
  {
   "cell_type": "code",
   "execution_count": 23,
   "metadata": {},
   "outputs": [
    {
     "name": "stdout",
     "output_type": "stream",
     "text": [
      "False\n",
      "True\n",
      "['A', 'B']\n",
      "False\n",
      "['C', 'D']\n"
     ]
    }
   ],
   "source": [
    "# Creates an instance of the class\n",
    "m = MethodTypes()\n",
    "# Calls instance method\n",
    "# m.isin_method()\n",
    "\n",
    "MethodTypes.update_names(old_names)\n",
    "\n",
    "b = MethodTypes()\n",
    "print(b.names)\n",
    "MethodTypes.update_names(new_names)\n",
    "\n",
    "x = MethodTypes()\n",
    "print(x.names)"
   ]
  },
  {
   "cell_type": "code",
   "execution_count": 24,
   "metadata": {},
   "outputs": [
    {
     "name": "stdout",
     "output_type": "stream",
     "text": [
      "['C', 'D']\n"
     ]
    }
   ],
   "source": [
    "print(b.names)"
   ]
  },
  {
   "cell_type": "code",
   "execution_count": 25,
   "metadata": {},
   "outputs": [
    {
     "name": "stdout",
     "output_type": "stream",
     "text": [
      "['C', 'D']\n"
     ]
    }
   ],
   "source": [
    "print(x.names)"
   ]
  },
  {
   "cell_type": "code",
   "execution_count": 26,
   "metadata": {},
   "outputs": [],
   "source": [
    "#FROM: https://pbpython.com/pandas-html-table.html"
   ]
  },
  {
   "cell_type": "code",
   "execution_count": 27,
   "metadata": {
    "scrolled": true
   },
   "outputs": [
    {
     "ename": "SyntaxError",
     "evalue": "unexpected EOF while parsing (<ipython-input-27-a66f77c9f085>, line 12)",
     "output_type": "error",
     "traceback": [
      "\u001b[0;36m  File \u001b[0;32m\"<ipython-input-27-a66f77c9f085>\"\u001b[0;36m, line \u001b[0;32m12\u001b[0m\n\u001b[0;31m    \u001b[0m\n\u001b[0m    ^\u001b[0m\n\u001b[0;31mSyntaxError\u001b[0m\u001b[0;31m:\u001b[0m unexpected EOF while parsing\n"
     ]
    }
   ],
   "source": [
    "import pandas as pd\n",
    "\n",
    "url = '/home/totoy/Desktop/17th Congress of the Philippines - Wikipedia.html'\n",
    "\n",
    "tables = pd.read_html(url)\n",
    "\n",
    "pd.set_option('display.max_rows', 500)\n",
    "pd.set_option('display.max_columns', 500)\n",
    "\n",
    "\n",
    "for table in tables:\n",
    "    "
   ]
  },
  {
   "cell_type": "code",
   "execution_count": null,
   "metadata": {},
   "outputs": [],
   "source": [
    "for table in wiki_tables:\n",
    "    print(table)"
   ]
  },
  {
   "cell_type": "code",
   "execution_count": null,
   "metadata": {},
   "outputs": [],
   "source": [
    "df = wiki_tables[9]"
   ]
  },
  {
   "cell_type": "code",
   "execution_count": null,
   "metadata": {},
   "outputs": [],
   "source": [
    "import pandas as pd\n",
    "\n",
    "url = '/home/totoy/Desktop/17th Congress of the Philippines - Wikipedia.html'\n",
    "\n",
    "candidate_tables = pd.read_html(url)\n",
    "\n",
    "pd.set_option('display.max_rows', 500)\n",
    "pd.set_option('display.max_columns', 500)\n",
    "\n",
    "REP_TABLE_KEYWORDS_MAP = {\n",
    "    \"Province/city\": \"prov\", \n",
    "    \"District\": \"dist\",\n",
    "    \"Representative.1\": \"rep_name\",\n",
    "    \"Part\": \"party\",\n",
    "    \"Term\": \"term\",\n",
    "    \"Bloc\": \"bloc\",\n",
    "} \n",
    "\n",
    "def get_common_fields_len(fields_1, fields_2): \n",
    "    set_1 = set(fields_1) \n",
    "    set_2 = set(fields_2) \n",
    "    return len(list(set_1 & set_2))\n",
    "    \n",
    "# find te\n",
    "    \n",
    "table = None\n",
    "best_match_len = 0\n",
    "rep_table_kw = REP_TABLE_KEYWORDS_MAP.keys()\n",
    "\n",
    "for c_table in candidate_tables:\n",
    "    cf_len = get_common_fields_len(\n",
    "        c_table.columns.tolist(),\n",
    "        rep_table_kw\n",
    "    )\n",
    "    print(cf_len)\n",
    "    if best_match_len < cf_len:\n",
    "        table = c_table\n",
    "        best_match_len = cf_len"
   ]
  },
  {
   "cell_type": "code",
   "execution_count": null,
   "metadata": {},
   "outputs": [],
   "source": [
    "temp_df = table.loc[:,:]"
   ]
  },
  {
   "cell_type": "code",
   "execution_count": null,
   "metadata": {},
   "outputs": [],
   "source": [
    "import re\n",
    "\n",
    "def clean_data(x):\n",
    "    # remove reference texts\n",
    "    x = re.sub(r\"\\[.*?\\]\", \"\", x.strip())   \n",
    "    \n",
    "    # TODO: removal of indices (haven't checked other use cases)\n",
    "    \n",
    "    return x"
   ]
  },
  {
   "cell_type": "code",
   "execution_count": null,
   "metadata": {},
   "outputs": [],
   "source": [
    "temp_df['Representative.1'].apply(clean_data)"
   ]
  },
  {
   "cell_type": "code",
   "execution_count": null,
   "metadata": {},
   "outputs": [],
   "source": [
    "wiki_tables[8]"
   ]
  },
  {
   "cell_type": "code",
   "execution_count": null,
   "metadata": {},
   "outputs": [],
   "source": [
    "a = [1,2,3]\n",
    "b = [5,6,7,1,2,3]\n",
    "get_common_fields_len(a,b)"
   ]
  },
  {
   "cell_type": "code",
   "execution_count": null,
   "metadata": {},
   "outputs": [],
   "source": [
    "a = {\n",
    "    \"Province/city\": \"prov\", \n",
    "    \"District\": \"dist\",\n",
    "    \"Representative.1\": \"rep_name\",\n",
    "    \"Part\": \"party\",\n",
    "    \"Term\": \"term\",\n",
    "    \"Bloc\": \"bloc\",\n",
    "} "
   ]
  },
  {
   "cell_type": "code",
   "execution_count": null,
   "metadata": {},
   "outputs": [],
   "source": [
    "a.keys()"
   ]
  },
  {
   "cell_type": "code",
   "execution_count": null,
   "metadata": {},
   "outputs": [],
   "source": [
    "a.values()"
   ]
  },
  {
   "cell_type": "code",
   "execution_count": null,
   "metadata": {},
   "outputs": [],
   "source": []
  }
 ],
 "metadata": {
  "kernelspec": {
   "display_name": "hb",
   "language": "python",
   "name": "hb"
  },
  "language_info": {
   "codemirror_mode": {
    "name": "ipython",
    "version": 3
   },
   "file_extension": ".py",
   "mimetype": "text/x-python",
   "name": "python",
   "nbconvert_exporter": "python",
   "pygments_lexer": "ipython3",
   "version": "3.6.10"
  }
 },
 "nbformat": 4,
 "nbformat_minor": 2
}
